{
 "cells": [
  {
   "cell_type": "code",
   "execution_count": 85,
   "metadata": {},
   "outputs": [],
   "source": [
    "import pandas\n",
    "from matplotlib import pyplot as plt\n",
    "import numpy as np\n",
    "import geopandas\n",
    "import urllib\n",
    "import json\n",
    "from sklearn.neighbors import NearestNeighbors"
   ]
  },
  {
   "cell_type": "markdown",
   "metadata": {},
   "source": [
    "## Process Data"
   ]
  },
  {
   "cell_type": "code",
   "execution_count": 2,
   "metadata": {},
   "outputs": [],
   "source": [
    "base_url = \"http://data.rcc-acis.org/\"\n",
    "#######################################\n",
    "#Acis WebServices functions\n",
    "#######################################\n",
    "def make_request(url,params) :\n",
    "    data = json.dumps(params)\n",
    "    data_bytes = bytes(data, 'utf-8') # one weird trick\n",
    "    \n",
    "    req = urllib.request.Request(url,\n",
    "    data=data_bytes,\n",
    "    headers={\"Content-Type\":\"application/json\"})\n",
    "    try:\n",
    "        response = urllib.request.urlopen(req)\n",
    "        return json.loads(response.read())\n",
    "    except urllib.request.HTTPError as error:\n",
    "        if error.code == 400 : print(error.msg)\n",
    "    print(urllib.request.HTTPError)\n",
    "\n",
    "def GridData(params, server=\"GridData\"):\n",
    "    return make_request(base_url+server, params)"
   ]
  },
  {
   "cell_type": "code",
   "execution_count": 67,
   "metadata": {},
   "outputs": [],
   "source": [
    "# see \n",
    "# https://www.rcc-acis.org/docs_webservices.html \n",
    "# (section IV onwards) for parameter values.\n",
    "\n",
    "params = {\n",
    "    \"state\":[\"CO\"],\n",
    "    \"sdate\":\"20200101\", # low-tech YYYYMMDD\n",
    "    \"edate\":\"20201231\",\n",
    "    \"grid\":1,\n",
    "    \"output\":\"json\",\n",
    "    \"elems\":[{\"name\":\"pcpn\",\"smry\":\"sum\",\"smry_only\":1}],  # annual summed precipitation\n",
    "    \"meta\":[\"ll\"]\n",
    "}\n",
    "\n",
    "#Obtain precipitation data\n",
    "precip_data = GridData(params, server=\"GridData\")\n",
    "\n",
    "params = {\n",
    "    \"state\":[\"CO\"],\n",
    "    \"sdate\":\"20200101\", # low-tech YYYYMMDD\n",
    "    \"edate\":\"20201231\",\n",
    "    \"grid\":1,\n",
    "    \"output\":\"json\",\n",
    "    \"elems\":[{\"name\":\"maxt\",\"smry\":\"max\",\"smry_only\":1}],  # annual max temp\n",
    "    # TODO: compbine the maxtemp (maybe average?) and summed precipitaiton better?\n",
    "    \"meta\":[\"ll\", \"elev\"]\n",
    "}\n",
    "\n",
    "#Obtain temperature and elevation data\n",
    "temp_elev_data = GridData(params, server=\"GridData\")"
   ]
  },
  {
   "cell_type": "code",
   "execution_count": 65,
   "metadata": {},
   "outputs": [
    {
     "name": "stdout",
     "output_type": "stream",
     "text": [
      "Precipitation Data\n"
     ]
    },
    {
     "data": {
      "text/html": [
       "<div>\n",
       "<style scoped>\n",
       "    .dataframe tbody tr th:only-of-type {\n",
       "        vertical-align: middle;\n",
       "    }\n",
       "\n",
       "    .dataframe tbody tr th {\n",
       "        vertical-align: top;\n",
       "    }\n",
       "\n",
       "    .dataframe thead th {\n",
       "        text-align: right;\n",
       "    }\n",
       "</style>\n",
       "<table border=\"1\" class=\"dataframe\">\n",
       "  <thead>\n",
       "    <tr style=\"text-align: right;\">\n",
       "      <th></th>\n",
       "      <th>meta</th>\n",
       "      <th>smry</th>\n",
       "    </tr>\n",
       "  </thead>\n",
       "  <tbody>\n",
       "    <tr>\n",
       "      <th>lat</th>\n",
       "      <td>[[36.958333, 36.958333, 36.958333, 36.958333, ...</td>\n",
       "      <td>NaN</td>\n",
       "    </tr>\n",
       "    <tr>\n",
       "      <th>lon</th>\n",
       "      <td>[[-109.083333, -109.041667, -109.0, -108.95833...</td>\n",
       "      <td>NaN</td>\n",
       "    </tr>\n",
       "    <tr>\n",
       "      <th>0</th>\n",
       "      <td>NaN</td>\n",
       "      <td>[[6.06, 6.0, 5.97, 5.94, 5.84, 5.82, 5.72, 5.6...</td>\n",
       "    </tr>\n",
       "  </tbody>\n",
       "</table>\n",
       "</div>"
      ],
      "text/plain": [
       "                                                  meta   \n",
       "lat  [[36.958333, 36.958333, 36.958333, 36.958333, ...  \\\n",
       "lon  [[-109.083333, -109.041667, -109.0, -108.95833...   \n",
       "0                                                  NaN   \n",
       "\n",
       "                                                  smry  \n",
       "lat                                                NaN  \n",
       "lon                                                NaN  \n",
       "0    [[6.06, 6.0, 5.97, 5.94, 5.84, 5.82, 5.72, 5.6...  "
      ]
     },
     "execution_count": 65,
     "metadata": {},
     "output_type": "execute_result"
    }
   ],
   "source": [
    "print(\"Precipitation Data\")\n",
    "d = pandas.DataFrame(dict([ (k,pandas.Series(v)) for k,v in precip_data.items() ]))\n",
    "d"
   ]
  },
  {
   "cell_type": "code",
   "execution_count": 68,
   "metadata": {},
   "outputs": [
    {
     "name": "stdout",
     "output_type": "stream",
     "text": [
      "Temperature and Elevation Data\n"
     ]
    },
    {
     "data": {
      "text/html": [
       "<div>\n",
       "<style scoped>\n",
       "    .dataframe tbody tr th:only-of-type {\n",
       "        vertical-align: middle;\n",
       "    }\n",
       "\n",
       "    .dataframe tbody tr th {\n",
       "        vertical-align: top;\n",
       "    }\n",
       "\n",
       "    .dataframe thead th {\n",
       "        text-align: right;\n",
       "    }\n",
       "</style>\n",
       "<table border=\"1\" class=\"dataframe\">\n",
       "  <thead>\n",
       "    <tr style=\"text-align: right;\">\n",
       "      <th></th>\n",
       "      <th>meta</th>\n",
       "      <th>smry</th>\n",
       "    </tr>\n",
       "  </thead>\n",
       "  <tbody>\n",
       "    <tr>\n",
       "      <th>0</th>\n",
       "      <td>NaN</td>\n",
       "      <td>[[101, 101, 101, 101, 101, 101, 101, 101, 101,...</td>\n",
       "    </tr>\n",
       "    <tr>\n",
       "      <th>elev</th>\n",
       "      <td>[[5062, 4757, 4642, 4810, 4964, 5010, 5046, 51...</td>\n",
       "      <td>NaN</td>\n",
       "    </tr>\n",
       "    <tr>\n",
       "      <th>lat</th>\n",
       "      <td>[[36.958333, 36.958333, 36.958333, 36.958333, ...</td>\n",
       "      <td>NaN</td>\n",
       "    </tr>\n",
       "    <tr>\n",
       "      <th>lon</th>\n",
       "      <td>[[-109.083333, -109.041667, -109.0, -108.95833...</td>\n",
       "      <td>NaN</td>\n",
       "    </tr>\n",
       "  </tbody>\n",
       "</table>\n",
       "</div>"
      ],
      "text/plain": [
       "                                                   meta   \n",
       "0                                                   NaN  \\\n",
       "elev  [[5062, 4757, 4642, 4810, 4964, 5010, 5046, 51...   \n",
       "lat   [[36.958333, 36.958333, 36.958333, 36.958333, ...   \n",
       "lon   [[-109.083333, -109.041667, -109.0, -108.95833...   \n",
       "\n",
       "                                                   smry  \n",
       "0     [[101, 101, 101, 101, 101, 101, 101, 101, 101,...  \n",
       "elev                                                NaN  \n",
       "lat                                                 NaN  \n",
       "lon                                                 NaN  "
      ]
     },
     "execution_count": 68,
     "metadata": {},
     "output_type": "execute_result"
    }
   ],
   "source": [
    "print(\"Temperature and Elevation Data\")\n",
    "d = pandas.DataFrame(dict([ (k,pandas.Series(v)) for k,v in temp_elev_data.items() ]))\n",
    "d"
   ]
  },
  {
   "cell_type": "markdown",
   "metadata": {},
   "source": [
    "Note: the lat and lon coordinates line up, so we only need to extract them from one of the jsons."
   ]
  },
  {
   "cell_type": "code",
   "execution_count": 69,
   "metadata": {},
   "outputs": [],
   "source": [
    "precip = np.array(precip_data['smry'][0])\n",
    "elev = np.array(temp_elev_data['meta']['elev'])\n",
    "lat, lon = np.array(temp_elev_data['meta']['lat']), np.array(temp_elev_data['meta']['lon'])\n",
    "temp = np.array(temp_elev_data['smry'][0])"
   ]
  },
  {
   "cell_type": "code",
   "execution_count": 70,
   "metadata": {},
   "outputs": [
    {
     "name": "stdout",
     "output_type": "stream",
     "text": [
      "(99, 171)\n",
      "(99, 171)\n",
      "(99, 171) (99, 171)\n",
      "(99, 171)\n"
     ]
    }
   ],
   "source": [
    "print(precip.shape)\n",
    "print(elev.shape)\n",
    "print(lat.shape, lon.shape)\n",
    "print(temp.shape)"
   ]
  },
  {
   "cell_type": "code",
   "execution_count": 91,
   "metadata": {},
   "outputs": [
    {
     "data": {
      "text/plain": [
       "(16929, 5)"
      ]
     },
     "execution_count": 91,
     "metadata": {},
     "output_type": "execute_result"
    }
   ],
   "source": [
    "all_data = np.reshape(np.dstack((lat,lon,elev,precip,temp)),(99*171,5))\n",
    "all_data.shape"
   ]
  },
  {
   "cell_type": "code",
   "execution_count": 92,
   "metadata": {},
   "outputs": [
    {
     "name": "stdout",
     "output_type": "stream",
     "text": [
      "5062 6.06 101\n",
      "[  36.958333 -109.083333 5062.          6.06      101.      ]\n"
     ]
    }
   ],
   "source": [
    "print(elev[0,0],precip[0,0],temp[0,0])\n",
    "print(all_data[0])"
   ]
  },
  {
   "cell_type": "markdown",
   "metadata": {},
   "source": [
    "## K Means"
   ]
  },
  {
   "cell_type": "code",
   "execution_count": 95,
   "metadata": {},
   "outputs": [],
   "source": [
    "nbrs = NearestNeighbors(n_neighbors=3).fit(all_data)\n",
    "distances, indices = nbrs.kneighbors(all_data)"
   ]
  },
  {
   "cell_type": "code",
   "execution_count": 98,
   "metadata": {},
   "outputs": [
    {
     "data": {
      "text/plain": [
       "(16929, 16929)"
      ]
     },
     "execution_count": 98,
     "metadata": {},
     "output_type": "execute_result"
    }
   ],
   "source": [
    "nbrs.kneighbors_graph(all_data).toarray().shape"
   ]
  },
  {
   "cell_type": "code",
   "execution_count": 97,
   "metadata": {},
   "outputs": [
    {
     "data": {
      "text/plain": [
       "array([[ 0.        ,  3.1336995 ,  3.73199747],\n",
       "       [ 0.        ,  2.301139  ,  4.24469835],\n",
       "       [ 0.        ,  4.53756708,  4.81749365],\n",
       "       ...,\n",
       "       [ 0.        ,  1.02320309,  4.84403097],\n",
       "       [ 0.        ,  3.51090404,  5.66227378],\n",
       "       [ 0.        ,  7.64286191, 12.2946482 ]])"
      ]
     },
     "execution_count": 97,
     "metadata": {},
     "output_type": "execute_result"
    }
   ],
   "source": [
    "distances"
   ]
  },
  {
   "cell_type": "code",
   "execution_count": null,
   "metadata": {},
   "outputs": [],
   "source": []
  }
 ],
 "metadata": {
  "kernelspec": {
   "display_name": "Python 3.11.1 64-bit",
   "language": "python",
   "name": "python3"
  },
  "language_info": {
   "codemirror_mode": {
    "name": "ipython",
    "version": 3
   },
   "file_extension": ".py",
   "mimetype": "text/x-python",
   "name": "python",
   "nbconvert_exporter": "python",
   "pygments_lexer": "ipython3",
   "version": "3.11.1"
  },
  "orig_nbformat": 4,
  "vscode": {
   "interpreter": {
    "hash": "aee8b7b246df8f9039afb4144a1f6fd8d2ca17a180786b69acc140d282b71a49"
   }
  }
 },
 "nbformat": 4,
 "nbformat_minor": 2
}
